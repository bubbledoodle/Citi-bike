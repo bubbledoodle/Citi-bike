{
 "cells": [
  {
   "cell_type": "markdown",
   "metadata": {},
   "source": [
    "## Citi-bike age analysis\n",
    "This gives a analysis of each station's user age distribution. Target to different user age group, we want to promote different types of information to them so as to custimize information sharing at each the station. Using open data, we record each station's user age and do a simple analysis. We will present each station's maxmum user age, minmum user age, and average user age. "
   ]
  },
  {
   "cell_type": "code",
   "execution_count": 30,
   "metadata": {
    "collapsed": false
   },
   "outputs": [
    {
     "name": "stdout",
     "output_type": "stream",
     "text": [
      "20\n",
      "Howard St & Centre St\n",
      "E 31 St & 3 Ave\n",
      "10 Ave & W 28 St\n",
      "Howard St & Centre St\n",
      "Central Park S & 6 Ave\n",
      "Kent Ave & N 7 St\n",
      "Amsterdam Ave & W 73 St\n",
      "Howard St & Centre St\n",
      "E 33 St & 2 Ave\n",
      "{'Kent Ave & N 7 St': 32, 'E 33 St & 2 Ave': 53, 'E 31 St & 3 Ave': 47, 'Central Park S & 6 Ave': 64, 'Amsterdam Ave & W 73 St': 53, '10 Ave & W 28 St': 34, 'Howard St & Centre St': 20}\n",
      "max_age = 64\n",
      "min_age = 20\n",
      "ave_age = 46.2\n"
     ]
    }
   ],
   "source": [
    "import csv\n",
    "ages = []\n",
    "stations = []\n",
    "filename = \"smaller.csv\"\n",
    "with open(filename, 'r') as csvfile:\n",
    "    filereader = csv.reader(csvfile,delimiter = ',')\n",
    "    header = next(filereader)\n",
    "    for row in filereader:\n",
    "        stations.append(row[4])\n",
    "        ages.append(2016 - int(row[13]))\n",
    "        \n",
    "        \n",
    "        \n",
    "$station_age = dict(zip(stations, ages)) \n",
    "print(station_age[\"Howard St & Centre St\"])\n",
    "for i in stations:\n",
    "    print(i)\n",
    "uniquestations = set(stations)\n",
    "#for stations in uniquestations:\n",
    "\n",
    "\n",
    "\n",
    "print(station_age)\n",
    "print(\"max_age = %d\" %(max(ages)))\n",
    "print(\"min_age = %d\" %(min(ages)))\n",
    "print(\"ave_age = %0.1f\" %(sum(ages)/len(ages)))\n",
    "\n"
   ]
  },
  {
   "cell_type": "code",
   "execution_count": null,
   "metadata": {
    "collapsed": true
   },
   "outputs": [],
   "source": []
  }
 ],
 "metadata": {
  "kernelspec": {
   "display_name": "Python 3",
   "language": "python",
   "name": "python3"
  },
  "language_info": {
   "codemirror_mode": {
    "name": "ipython",
    "version": 3
   },
   "file_extension": ".py",
   "mimetype": "text/x-python",
   "name": "python",
   "nbconvert_exporter": "python",
   "pygments_lexer": "ipython3",
   "version": "3.4.3"
  }
 },
 "nbformat": 4,
 "nbformat_minor": 1
}
